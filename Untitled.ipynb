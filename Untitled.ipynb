{
 "cells": [
  {
   "cell_type": "code",
   "execution_count": 4,
   "id": "f3cd9036-55c7-40c1-b5e8-066764652f6c",
   "metadata": {},
   "outputs": [
    {
     "name": "stdin",
     "output_type": "stream",
     "text": [
      "Enter the movie name:  avatar\n"
     ]
    },
    {
     "name": "stdout",
     "output_type": "stream",
     "text": [
      "Thumbnail displayed for 'avatar'.\n"
     ]
    }
   ],
   "source": [
    "import requests\n",
    "from PIL import Image\n",
    "from io import BytesIO\n",
    "\n",
    "def get_movie_thumbnail(movie_name):\n",
    "    # Replace 'YOUR_API_KEY' with your actual OMDB API key\n",
    "    api_key = \"d5f946f9\"\n",
    "    base_url = \"http://www.omdbapi.com/\"\n",
    "\n",
    "    # Prepare the API request\n",
    "    params = {\n",
    "        \"t\": movie_name,\n",
    "        \"apikey\": api_key\n",
    "    }\n",
    "\n",
    "    try:\n",
    "        # Send a GET request to the API\n",
    "        response = requests.get(base_url, params=params)\n",
    "        response.raise_for_status()  # Raise an error for HTTP issues\n",
    "\n",
    "        # Parse the JSON response\n",
    "        movie_data = response.json()\n",
    "        if movie_data.get(\"Response\") == \"True\":\n",
    "            # Get the poster URL\n",
    "            poster_url = movie_data.get(\"Poster\")\n",
    "            if poster_url and poster_url != \"N/A\":\n",
    "                # Fetch the poster image\n",
    "                poster_response = requests.get(poster_url)\n",
    "                poster_response.raise_for_status()\n",
    "\n",
    "                # Open and display the thumbnail using PIL\n",
    "                image = Image.open(BytesIO(poster_response.content))\n",
    "                image.show()\n",
    "                print(f\"Thumbnail displayed for '{movie_name}'.\")\n",
    "            else:\n",
    "                print(f\"No thumbnail found for '{movie_name}'.\")\n",
    "        else:\n",
    "            print(f\"Movie not found: {movie_name}\")\n",
    "    except requests.exceptions.RequestException as e:\n",
    "        print(f\"Error fetching movie details: {e}\")\n",
    "\n",
    "# Example usage\n",
    "movie_name = input(\"Enter the movie name: \")\n",
    "get_movie_thumbnail(movie_name)\n"
   ]
  },
  {
   "cell_type": "code",
   "execution_count": null,
   "id": "e94453bd-33cf-417f-b313-40f182026e75",
   "metadata": {},
   "outputs": [],
   "source": []
  }
 ],
 "metadata": {
  "kernelspec": {
   "display_name": "Python 3 (ipykernel)",
   "language": "python",
   "name": "python3"
  },
  "language_info": {
   "codemirror_mode": {
    "name": "ipython",
    "version": 3
   },
   "file_extension": ".py",
   "mimetype": "text/x-python",
   "name": "python",
   "nbconvert_exporter": "python",
   "pygments_lexer": "ipython3",
   "version": "3.11.9"
  }
 },
 "nbformat": 4,
 "nbformat_minor": 5
}
